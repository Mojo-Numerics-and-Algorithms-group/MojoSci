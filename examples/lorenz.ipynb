{
 "cells": [
  {
   "cell_type": "code",
   "execution_count": 1,
   "metadata": {},
   "outputs": [
    {
     "name": "stdout",
     "output_type": "stream",
     "text": [
      "error: \u001b[0;1;31m\u001b[1mExpression [1]:1:6: \u001b[0m\u001b[1munable to locate module 'diffeq'\n",
      "\u001b[0mfrom diffeq.desys import Lorenz\n",
      "\u001b[0;1;32m     ^\n",
      "\u001b[0m\u001b[0merror: \u001b[0;1;31m\u001b[1mExpression [1]:1:13: \u001b[0m\u001b[1m\n",
      "\u001b[0mfrom diffeq.desys import Lorenz\n",
      "\u001b[0;1;32m            ^\n",
      "\u001b[0m\u001b[0merror: \u001b[0;1;31m\u001b[1mExpression [1]:5:6: \u001b[0m\u001b[1munable to locate module 'linalg'\n",
      "\u001b[0mfrom linalg.static_matrix import (\n",
      "\u001b[0;1;32m     ^\n",
      "\u001b[0m\u001b[0merror: \u001b[0;1;31m\u001b[1mExpression [1]:5:13: \u001b[0m\u001b[1m\n",
      "\u001b[0mfrom linalg.static_matrix import (\n",
      "\u001b[0;1;32m            ^\n",
      "\u001b[0m\u001b[0merror: \u001b[0;1;31m\u001b[1mExpression [1]:2:13: \u001b[0m\u001b[1m\n",
      "\u001b[0mfrom diffeq.runga_kutta import RKAdaptiveStepper\n",
      "\u001b[0;1;32m            ^\n",
      "\u001b[0m\u001b[0merror: \u001b[0;1;31m\u001b[1mExpression [1]:3:13: \u001b[0m\u001b[1m\n",
      "\u001b[0mfrom diffeq.rkstrategy import RK45\n",
      "\u001b[0;1;32m            ^\n",
      "\u001b[0m\u001b[0m"
     ]
    },
    {
     "name": "stderr",
     "output_type": "stream",
     "text": [
      "expression failed to parse (no further compiler diagnostics)"
     ]
    }
   ],
   "source": [
    "from diffeq.desys import Lorenz\n",
    "from diffeq.runga_kutta import RKAdaptiveStepper\n",
    "from diffeq.rkstrategy import RK45\n",
    "\n",
    "from linalg.static_matrix import (\n",
    "    StaticMat as Mat,\n",
    "    StaticColVec as ColVec,\n",
    "    StaticRowVec as RowVec,\n",
    ")\n",
    "\n",
    "var grad = Lorenz(10, 28, 8 / 3)\n",
    "var s0 = ColVec[3](2.0, 1.0, 1.0)\n",
    "\n",
    "var lorenz = RKAdaptiveStepper[RK45](grad, s0, 0.01)\n",
    "\n",
    "var t = List[Float64]()\n",
    "var s = List[ColVec[3]]()\n",
    "\n",
    "for _ in range(30):\n",
    "   t.append(lorenz.t)\n",
    "   s.append(lorenz.state)\n",
    "   lorenz.step()\n",
    "\n",
    "\n",
    "\n"
   ]
  }
 ],
 "metadata": {
  "kernelspec": {
   "display_name": "Mojo (nightly)",
   "language": "mojo",
   "name": "mojo-nightly-jupyter-kernel"
  },
  "language_info": {
   "codemirror_mode": {
    "name": "mojo"
   },
   "file_extension": ".mojo",
   "mimetype": "text/x-mojo",
   "name": "mojo"
  }
 },
 "nbformat": 4,
 "nbformat_minor": 2
}
